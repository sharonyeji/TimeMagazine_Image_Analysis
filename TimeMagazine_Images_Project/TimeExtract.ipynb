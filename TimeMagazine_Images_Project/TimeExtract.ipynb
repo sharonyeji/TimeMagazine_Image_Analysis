{
 "cells": [
  {
   "cell_type": "code",
   "execution_count": 1,
   "metadata": {
    "collapsed": true
   },
   "outputs": [],
   "source": [
    "import cv2\n",
    "import numpy as np\n",
    "from matplotlib import pyplot as plt\n",
    "import os\n",
    "import csv\n",
    "import re\n",
    "import fnmatch\n",
    "import csv"
   ]
  },
  {
   "cell_type": "code",
   "execution_count": 18,
   "metadata": {},
   "outputs": [],
   "source": [
    "jpgfiles = [os.path.join(root, name)\n",
    " for root, dirs, files in os.walk(os.getcwd())\n",
    " for name in files\n",
    " if name.endswith(\"jpg\")]\n",
    "\n",
    "csvfile = open(\"test.csv\", \"w\") #change to wb to w, wb is python2 version and changes it to \n",
    "writer = csv.writer(csvfile)\n",
    "writer.writerow([\"Year\",\"Month\",\"Day\",\"Page\", \"CoverFlag\", \"Pix1\", \"Pix2\", \"Pix3\",\"Width\", \"Height\",\"FileName\"])"
   ]
  },
  {
   "cell_type": "code",
   "execution_count": 23,
   "metadata": {},
   "outputs": [
    {
     "name": "stdout",
     "output_type": "stream",
     "text": [
      "C:\\Users\\Sharon\\Desktop\\Chapman Fall 2018\\Independent Study\\Berardi\\MeanPhoto\\1923-01-01-1933-01-01.jpg\n"
     ]
    },
    {
     "ename": "error",
     "evalue": "C:\\projects\\opencv-python\\opencv\\modules\\objdetect\\src\\cascadedetect.cpp:1698: error: (-215) !empty() in function cv::CascadeClassifier::detectMultiScale\n",
     "output_type": "error",
     "traceback": [
      "\u001b[1;31m---------------------------------------------------------------------------\u001b[0m",
      "\u001b[1;31merror\u001b[0m                                     Traceback (most recent call last)",
      "\u001b[1;32m<ipython-input-23-b72c7ee37b65>\u001b[0m in \u001b[0;36m<module>\u001b[1;34m()\u001b[0m\n\u001b[0;32m     47\u001b[0m         \u001b[0mminNeighbors\u001b[0m\u001b[1;33m=\u001b[0m\u001b[1;36m5\u001b[0m\u001b[1;33m,\u001b[0m\u001b[1;33m\u001b[0m\u001b[0m\n\u001b[0;32m     48\u001b[0m         \u001b[0mminSize\u001b[0m\u001b[1;33m=\u001b[0m\u001b[1;33m(\u001b[0m\u001b[1;36m30\u001b[0m\u001b[1;33m,\u001b[0m \u001b[1;36m30\u001b[0m\u001b[1;33m)\u001b[0m\u001b[1;33m,\u001b[0m\u001b[1;33m\u001b[0m\u001b[0m\n\u001b[1;32m---> 49\u001b[1;33m         \u001b[0mflags\u001b[0m \u001b[1;33m=\u001b[0m \u001b[0mcv2\u001b[0m\u001b[1;33m.\u001b[0m\u001b[0mCASCADE_SCALE_IMAGE\u001b[0m \u001b[1;31m#change cv2.cv.CV_HAAR_SCALE_IMAGE to new version cv2.CASCADE_SCALE_IMAGE\u001b[0m\u001b[1;33m\u001b[0m\u001b[0m\n\u001b[0m\u001b[0;32m     50\u001b[0m     )\n\u001b[0;32m     51\u001b[0m \u001b[1;33m\u001b[0m\u001b[0m\n",
      "\u001b[1;31merror\u001b[0m: C:\\projects\\opencv-python\\opencv\\modules\\objdetect\\src\\cascadedetect.cpp:1698: error: (-215) !empty() in function cv::CascadeClassifier::detectMultiScale\n"
     ]
    }
   ],
   "source": [
    "for file in jpgfiles:\n",
    "    print(file)\n",
    "    \n",
    "    # Regex to define date, page, and coverpage flag\n",
    "    searchObj = re.finditer(\"page\", file, re.M | re.I)   \n",
    "    if searchObj:\n",
    "        for match in searchObj:\n",
    "\n",
    "            # Find the start index of the keyword\n",
    "            start = match.span()[0]\n",
    "\n",
    "            # Find the end index of the keyword\n",
    "            end = match.span()[1]\n",
    "            \n",
    "            yy = file[start-11:start-7]\n",
    "            mm = file[start-6:start-4]\n",
    "            dd = file[start-3:start-1]\n",
    "                \n",
    "            pp1 = file[end+1]\n",
    "            pp2 = file[end+2]\n",
    "            pg = pp1+pp2\n",
    "            \n",
    "            covflag = 0\n",
    "            if pp2 == \".\":\n",
    "                pg = pp1\n",
    "                if pp1 == \"1\": \n",
    "                    covflag = 1\n",
    "           \n",
    "\n",
    "    # Load Data\n",
    "    img = cv2.imread(file)\n",
    "    #cv2.imshow('image',img) \n",
    "    #cv2.waitKey()\n",
    "    # Convert to HSV\n",
    "    img2 = cv2.cvtColor(img, cv2.COLOR_BGR2HSV)\n",
    "\n",
    "    # Create the haar cascade\n",
    "    faceCascade = cv2.CascadeClassifier('haarcascade_frontalface_default.xml')\n",
    "\n",
    "    # Read the image\n",
    "    gray = cv2.cvtColor(img, cv2.COLOR_BGR2GRAY)\n",
    "\n",
    "    # Detect faces in the image\n",
    "    faces = faceCascade.detectMultiScale(\n",
    "        gray,\n",
    "        scaleFactor=1.1,\n",
    "        minNeighbors=5,\n",
    "        minSize=(30, 30),\n",
    "        flags = cv2.CASCADE_SCALE_IMAGE #change cv2.cv.CV_HAAR_SCALE_IMAGE to new version cv2.CASCADE_SCALE_IMAGE\n",
    "    )\n",
    "\n",
    "    #print \"Found {0} faces!\".format(len(faces))\n",
    "      \n",
    "    ctr = 1\n",
    "    for f in faces:\n",
    "\n",
    "        a = f[1]\n",
    "        b = a + f[3]\n",
    "        c = f[0]\n",
    "        d = c + f[2]\n",
    "\n",
    "        facearea = (b-a)*(d-c)\n",
    "\n",
    "        img2 = img[a:b, c:d]\n",
    "        \n",
    "        average_color_per_row = np.average(img2, axis=0)\n",
    "        average_color = np.average(average_color_per_row, axis=0)\n",
    "        average_color = np.uint8(average_color)     \n",
    "        img_av = np.array([[average_color]*500]*500, np.uint8)\n",
    "        \n",
    "        fname = yy+\"-\"+mm+\"-\"+dd+\" page\"+\"\"+pg+\"_\"+str(ctr)+\".jpg\"\n",
    "        fullfname = os.path.join(\".\\SaveFace\",fname)\n",
    "        cv2.imwrite(fullfname,img2)\n",
    "        ctr = ctr+1\n",
    "        \n",
    "        writer.writerow([yy,mm,dd,pg, covflag,average_color[0], average_color[1], average_color[2],f[3],f[2],fname])\n",
    "\n",
    "csvfile.close()"
   ]
  },
  {
   "cell_type": "code",
   "execution_count": 40,
   "metadata": {
    "collapsed": true
   },
   "outputs": [],
   "source": [
    " csvfile.close()"
   ]
  },
  {
   "cell_type": "code",
   "execution_count": null,
   "metadata": {
    "collapsed": true
   },
   "outputs": [],
   "source": []
  }
 ],
 "metadata": {
  "kernelspec": {
   "display_name": "Python 3",
   "language": "python",
   "name": "python3"
  },
  "language_info": {
   "codemirror_mode": {
    "name": "ipython",
    "version": 3
   },
   "file_extension": ".py",
   "mimetype": "text/x-python",
   "name": "python",
   "nbconvert_exporter": "python",
   "pygments_lexer": "ipython3",
   "version": "3.7.0"
  }
 },
 "nbformat": 4,
 "nbformat_minor": 1
}
